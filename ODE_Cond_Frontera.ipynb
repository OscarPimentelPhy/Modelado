{
 "cells": [
  {
   "cell_type": "markdown",
   "id": "4a045d7f",
   "metadata": {},
   "source": [
    "# Ecuaciones Diferenciales Ordinarias con Condiciones de Frontera"
   ]
  },
  {
   "cell_type": "code",
   "execution_count": 136,
   "id": "4d4e1f66",
   "metadata": {},
   "outputs": [],
   "source": [
    "# Paquetes\n",
    "import numpy as np\n",
    "import matplotlib.pyplot as plt"
   ]
  },
  {
   "cell_type": "code",
   "execution_count": 140,
   "id": "a50f7ad0",
   "metadata": {},
   "outputs": [],
   "source": [
    "L = 10\n",
    "hp = 0.01\n",
    "h = 2\n",
    "Ta = 20\n",
    "T0 = 40\n",
    "TN = 200"
   ]
  },
  {
   "cell_type": "markdown",
   "id": "ec132a59",
   "metadata": {},
   "source": [
    "## 1. Método de Shooting"
   ]
  },
  {
   "cell_type": "code",
   "execution_count": 69,
   "id": "b36ab370",
   "metadata": {},
   "outputs": [],
   "source": [
    "# definimos la función f(x) para la pendiente y la condición inicial:\n",
    "\n",
    "def f1(z_val): return z_val\n",
    "def f2(T_val): return -he*(Ta-T_val)"
   ]
  },
  {
   "cell_type": "code",
   "execution_count": 91,
   "id": "d5428077",
   "metadata": {},
   "outputs": [
    {
     "name": "stdout",
     "output_type": "stream",
     "text": [
      "12.696696696696698\n"
     ]
    }
   ],
   "source": [
    "# Método de shooting con RK4\n",
    "z0_guess = np.linspace(1,20,1000)\n",
    "x = np.linspace(0,L,20)\n",
    "h = x[1] - x[0]\n",
    "threshold = 0.1\n",
    "for z0 in z0_guess:\n",
    "    z, T = [], []\n",
    "    z_prev, T_prev = z0, T0\n",
    "    z.append(z_prev)\n",
    "    T.append(T_prev)\n",
    "\n",
    "    for i in range(1,len(x)):\n",
    "        k1_1 = f1(z_prev)\n",
    "        k1_2 = f2(T_prev)\n",
    "    \n",
    "        T_inter = T_prev + 0.5*k1_1*h\n",
    "        z_inter = z_prev + 0.5*k1_2*h\n",
    "        k2_1 = f1(z_inter)\n",
    "        k2_2 = f2(T_inter)\n",
    "    \n",
    "        T_inter = T_prev + 0.5*k2_1*h\n",
    "        z_inter = z_prev + 0.5*k2_2*h\n",
    "        k3_1 = f1(z_inter)\n",
    "        k3_2 = f2(T_inter)\n",
    "    \n",
    "        T_inter = T_prev + k3_1*h\n",
    "        z_inter = z_prev + k3_2*h\n",
    "        k4_1 = f1(z_inter)\n",
    "        k4_2 = f2(T_inter)\n",
    "    \n",
    "        phi1 = (1/6)*(k1_1 + 2*k2_1 + 2*k3_1 + k4_1)\n",
    "        phi2 = (1/6)*(k1_2 + 2*k2_2 + 2*k3_2 + k4_2)\n",
    "    \n",
    "        T_new = T_prev + phi1*h\n",
    "        z_new = z_prev + phi2*h\n",
    "    \n",
    "        z.append(z_new)\n",
    "        T.append(T_new)\n",
    "    \n",
    "        z_prev = z_new\n",
    "        T_prev = T_new\n",
    "    if np.abs(T[19] - T10) <= threshold: \n",
    "        print(z0)\n",
    "        break"
   ]
  },
  {
   "cell_type": "code",
   "execution_count": 92,
   "id": "6ca41bff",
   "metadata": {},
   "outputs": [
    {
     "data": {
      "text/plain": [
       "[<matplotlib.lines.Line2D at 0x7f8eedb5a700>]"
      ]
     },
     "execution_count": 92,
     "metadata": {},
     "output_type": "execute_result"
    },
    {
     "data": {
      "image/png": "[encoded data removed]",
      "text/plain": [
       "<Figure size 432x288 with 1 Axes>"
      ]
     },
     "metadata": {
      "needs_background": "light"
     },
     "output_type": "display_data"
    }
   ],
   "source": [
    "plt.plot(x,T)"
   ]
  },
  {
   "cell_type": "markdown",
   "id": "9f132ace",
   "metadata": {},
   "source": [
    "## 2. Aproximación con Diferencias Finitas"
   ]
  },
  {
   "cell_type": "markdown",
   "id": "1965e09b",
   "metadata": {},
   "source": [
    "Con la aproximación en diferencias finitas centradas, la ecuación de transferencia de calor,\n",
    "\n",
    "\\begin{equation}\n",
    "\\frac{d^{2}T}{dx^{2}} = -h_p(T_{a}-T),\n",
    "\\end{equation}\n",
    "\n",
    "se convierte en\n",
    "\n",
    "\\begin{equation}\n",
    "T_{i+1}-(2+h_p h^2)T_i+T_{i-1}=-h_p h^2 T_a,\n",
    "\\end{equation}\n",
    "\n",
    "donde el subindice $i=1,...,N-1$. Las condiciones de frontera son $T_0$ y $T_N$"
   ]
  },
  {
   "cell_type": "code",
   "execution_count": 288,
   "id": "667c59ce",
   "metadata": {},
   "outputs": [],
   "source": [
    "L = 10\n",
    "hp = 0.01\n",
    "Ta = 20\n",
    "T0 = 40\n",
    "TN = 200"
   ]
  },
  {
   "cell_type": "code",
   "execution_count": 298,
   "id": "72f21c61",
   "metadata": {},
   "outputs": [],
   "source": [
    "N = 100 # Número de puntos en el dominio de x para calcular T\n",
    "\n",
    "x = np.linspace(0,L,N+2)\n",
    "h = x[1] - x[0]\n",
    "\n",
    "b = np.zeros(N)\n",
    "A = np.zeros((N,N))\n",
    "for i in range(N):\n",
    "    if i == 0:\n",
    "        A[i,i] = -(2 + hp*h**2)\n",
    "        A[i,i+1] = 1\n",
    "        b[i] = -hp*h**2*Ta-T0\n",
    "        continue\n",
    "    elif i == N-1:\n",
    "        A[i,i] = -(2 + hp*h**2)\n",
    "        A[i,i-1] = 1\n",
    "        b[i] = -hp*h**2*Ta-TN\n",
    "        continue\n",
    "    A[i,i] = -(2 + hp*h**2)\n",
    "    A[i,i+1] = 1\n",
    "    A[i,i-1] = 1\n",
    "    b[i] = -hp*h**2*Ta\n",
    "\n",
    "A = np.matrix(A)\n",
    "b = np.matrix(b).T\n",
    "\n",
    "T = (A**-1)*b\n",
    "T = np.array(T.T)\n",
    "T = np.insert(T,0,T0)\n",
    "T = np.insert(T,N+1,TN)"
   ]
  },
  {
   "cell_type": "code",
   "execution_count": 299,
   "id": "8eb411d8",
   "metadata": {
    "scrolled": true
   },
   "outputs": [
    {
     "data": {
      "text/plain": [
       "[<matplotlib.lines.Line2D at 0x7f8eee7c52e0>]"
      ]
     },
     "execution_count": 299,
     "metadata": {},
     "output_type": "execute_result"
    },
    {
     "data": {
      "image/png": "[encoded data removed]",
      "text/plain": [
       "<Figure size 432x288 with 1 Axes>"
      ]
     },
     "metadata": {
      "needs_background": "light"
     },
     "output_type": "display_data"
    }
   ],
   "source": [
    "plt.plot(x,T)"
   ]
  },
  {
   "cell_type": "code",
   "execution_count": null,
   "id": "220e8422",
   "metadata": {},
   "outputs": [],
   "source": []
  }
 ],
 "metadata": {
  "kernelspec": {
   "display_name": "Python 3",
   "language": "python",
   "name": "python3"
  },
  "language_info": {
   "codemirror_mode": {
    "name": "ipython",
    "version": 3
   },
   "file_extension": ".py",
   "mimetype": "text/x-python",
   "name": "python",
   "nbconvert_exporter": "python",
   "pygments_lexer": "ipython3",
   "version": "3.8.8"
  }
 },
 "nbformat": 4,
 "nbformat_minor": 5
}
