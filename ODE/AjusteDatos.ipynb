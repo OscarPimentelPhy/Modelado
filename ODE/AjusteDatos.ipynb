{
 "cells": [
  {
   "cell_type": "markdown",
   "id": "a5e1936f",
   "metadata": {},
   "source": [
    "# Ajuste de datos a un modelo analítico y numérico"
   ]
  },
  {
   "cell_type": "markdown",
   "id": "0248a29b",
   "metadata": {},
   "source": [
    "## Problema"
   ]
  },
  {
   "cell_type": "markdown",
   "id": "3ccf0a35",
   "metadata": {},
   "source": [
    "Los datos contenidos en el archivo hamster_fibro_tumor.csv contiene la evolución en el tiempo del volumen de un tumor. La columna del tiempo está dada en días y la columna del volumen está en unidades de $\\times 10^{9} \\mu\\text{m}^3$."
   ]
  },
  {
   "cell_type": "markdown",
   "id": "a966ef33",
   "metadata": {},
   "source": [
    "# El modelo logístico"
   ]
  },
  {
   "cell_type": "markdown",
   "id": "994120dc",
   "metadata": {},
   "source": [
    "El modelo logístico para el crecimiento de una población fue propuesto en 1845. Este modelo propone un decrecimiento lineal de la rapidez con que crece el tamaño de la población relativa al tamaño de la población\n",
    "$$\\frac{dV}{dt}=rV\\left(1-\\frac{V}{K}\\right).$$\n",
    "En esta ecuación, $r$ es una tasa de crecimiento per capita, $K$ se conoce como la capacidad de carga y es el valor máximo del tamaño de la población, impuesto por las limitaciones del entorno, como la cantidad limitada de recursos para que la población siga creciendo.\n"
   ]
  },
  {
   "cell_type": "code",
   "execution_count": 34,
   "id": "3edf3382",
   "metadata": {},
   "outputs": [],
   "source": [
    "# Paquetes\n",
    "\n",
    "import pandas as pd\n",
    "import matplotlib.pyplot as plt\n",
    "import numpy as np\n",
    "from scipy.optimize import curve_fit\n",
    "from scipy.interpolate import interp1d"
   ]
  },
  {
   "cell_type": "code",
   "execution_count": 11,
   "id": "df1712a0",
   "metadata": {},
   "outputs": [
    {
     "data": {
      "text/html": [
       "<div>\n",
       "<style scoped>\n",
       "    .dataframe tbody tr th:only-of-type {\n",
       "        vertical-align: middle;\n",
       "    }\n",
       "\n",
       "    .dataframe tbody tr th {\n",
       "        vertical-align: top;\n",
       "    }\n",
       "\n",
       "    .dataframe thead th {\n",
       "        text-align: right;\n",
       "    }\n",
       "</style>\n",
       "<table border=\"1\" class=\"dataframe\">\n",
       "  <thead>\n",
       "    <tr style=\"text-align: right;\">\n",
       "      <th></th>\n",
       "      <th>t</th>\n",
       "      <th>V</th>\n",
       "    </tr>\n",
       "  </thead>\n",
       "  <tbody>\n",
       "    <tr>\n",
       "      <th>0</th>\n",
       "      <td>3.46</td>\n",
       "      <td>0.0158</td>\n",
       "    </tr>\n",
       "    <tr>\n",
       "      <th>1</th>\n",
       "      <td>4.58</td>\n",
       "      <td>0.0264</td>\n",
       "    </tr>\n",
       "    <tr>\n",
       "      <th>2</th>\n",
       "      <td>5.67</td>\n",
       "      <td>0.0326</td>\n",
       "    </tr>\n",
       "    <tr>\n",
       "      <th>3</th>\n",
       "      <td>6.64</td>\n",
       "      <td>0.0445</td>\n",
       "    </tr>\n",
       "    <tr>\n",
       "      <th>4</th>\n",
       "      <td>7.63</td>\n",
       "      <td>0.0646</td>\n",
       "    </tr>\n",
       "  </tbody>\n",
       "</table>\n",
       "</div>"
      ],
      "text/plain": [
       "      t       V\n",
       "0  3.46  0.0158\n",
       "1  4.58  0.0264\n",
       "2  5.67  0.0326\n",
       "3  6.64  0.0445\n",
       "4  7.63  0.0646"
      ]
     },
     "execution_count": 11,
     "metadata": {},
     "output_type": "execute_result"
    }
   ],
   "source": [
    "# Lectura de datos\n",
    "\n",
    "df = pd.read_csv('hamster_fibro_tumor.csv')\n",
    "df.head(5)"
   ]
  },
  {
   "cell_type": "code",
   "execution_count": 12,
   "id": "fb6cade2",
   "metadata": {},
   "outputs": [
    {
     "data": {
      "text/html": [
       "<div>\n",
       "<style scoped>\n",
       "    .dataframe tbody tr th:only-of-type {\n",
       "        vertical-align: middle;\n",
       "    }\n",
       "\n",
       "    .dataframe tbody tr th {\n",
       "        vertical-align: top;\n",
       "    }\n",
       "\n",
       "    .dataframe thead th {\n",
       "        text-align: right;\n",
       "    }\n",
       "</style>\n",
       "<table border=\"1\" class=\"dataframe\">\n",
       "  <thead>\n",
       "    <tr style=\"text-align: right;\">\n",
       "      <th></th>\n",
       "      <th>t</th>\n",
       "      <th>V</th>\n",
       "    </tr>\n",
       "  </thead>\n",
       "  <tbody>\n",
       "    <tr>\n",
       "      <th>0</th>\n",
       "      <td>0.00</td>\n",
       "      <td>0.0158</td>\n",
       "    </tr>\n",
       "    <tr>\n",
       "      <th>1</th>\n",
       "      <td>1.12</td>\n",
       "      <td>0.0264</td>\n",
       "    </tr>\n",
       "    <tr>\n",
       "      <th>2</th>\n",
       "      <td>2.21</td>\n",
       "      <td>0.0326</td>\n",
       "    </tr>\n",
       "    <tr>\n",
       "      <th>3</th>\n",
       "      <td>3.18</td>\n",
       "      <td>0.0445</td>\n",
       "    </tr>\n",
       "    <tr>\n",
       "      <th>4</th>\n",
       "      <td>4.17</td>\n",
       "      <td>0.0646</td>\n",
       "    </tr>\n",
       "  </tbody>\n",
       "</table>\n",
       "</div>"
      ],
      "text/plain": [
       "      t       V\n",
       "0  0.00  0.0158\n",
       "1  1.12  0.0264\n",
       "2  2.21  0.0326\n",
       "3  3.18  0.0445\n",
       "4  4.17  0.0646"
      ]
     },
     "execution_count": 12,
     "metadata": {},
     "output_type": "execute_result"
    }
   ],
   "source": [
    "# Redefinimos el tiempo\n",
    "\n",
    "df['t'] = df['t']-df['t'][0]\n",
    "df.head(5)"
   ]
  },
  {
   "cell_type": "code",
   "execution_count": 13,
   "id": "066427ef",
   "metadata": {
    "scrolled": true
   },
   "outputs": [
    {
     "data": {
      "text/plain": [
       "<matplotlib.collections.PathCollection at 0x7f951174a7f0>"
      ]
     },
     "execution_count": 13,
     "metadata": {},
     "output_type": "execute_result"
    },
    {
     "data": {
      "image/png": "[encoded data removed]",
      "text/plain": [
       "<Figure size 432x288 with 1 Axes>"
      ]
     },
     "metadata": {
      "needs_background": "light"
     },
     "output_type": "display_data"
    }
   ],
   "source": [
    "plt.scatter(df.t,df.V)"
   ]
  },
  {
   "cell_type": "markdown",
   "id": "357e5320",
   "metadata": {},
   "source": [
    "## 1. Ajuste de los datos a un modelo analítico"
   ]
  },
  {
   "cell_type": "markdown",
   "id": "5a31ad69",
   "metadata": {},
   "source": [
    "La solución analítica del modelo logistico es la siguiente\n",
    "$$V=\\frac{C e^{rt}}{1+(C/K)e^{rt}},\\hspace{1cm} C=\\frac{KV_0}{K-V_0},$$\n",
    "Donde $V_0$ es el volumen inicial."
   ]
  },
  {
   "cell_type": "code",
   "execution_count": 57,
   "id": "3aad0271",
   "metadata": {},
   "outputs": [],
   "source": [
    "# Definimos el modelo como una función\n",
    "\n",
    "def V_model(t, k, r):\n",
    "    V0 = df.V[0]\n",
    "    C = k*V0/(k-V0)\n",
    "    V = C*np.exp(r*t)/(1+(C/k)*np.exp(r*t))\n",
    "    return V"
   ]
  },
  {
   "cell_type": "code",
   "execution_count": 58,
   "id": "c63e0ef6",
   "metadata": {},
   "outputs": [],
   "source": [
    "# Ajuste de la curva\n",
    "\n",
    "# Definir los datos que se van a ajustar (t,y)\n",
    "t_data = df['t'].values\n",
    "V_data = df['V'].values\n",
    "\n",
    "# Ajustar la curva\n",
    "popt, _ = curve_fit(V_model, t_data, V_data) \n",
    "\n",
    "# Valores de los parámetros: k, r\n",
    "k = popt[0]\n",
    "r = popt[1]\n",
    "\n",
    "# Valores de posición y predichos por el modelo\n",
    "V_pred = V_model(t_data, k, r)"
   ]
  },
  {
   "cell_type": "code",
   "execution_count": 59,
   "id": "0a5425c0",
   "metadata": {},
   "outputs": [
    {
     "data": {
      "image/png": "[encoded data removed]",
      "text/plain": [
       "<Figure size 432x288 with 1 Axes>"
      ]
     },
     "metadata": {
      "needs_background": "light"
     },
     "output_type": "display_data"
    }
   ],
   "source": [
    "plt.scatter(t_data,V_data,label='Datos')\n",
    "plt.plot(t_data,V_pred, color='red',label='Mejor ajuste')\n",
    "plt.legend();"
   ]
  },
  {
   "cell_type": "code",
   "execution_count": 60,
   "id": "d44b4785",
   "metadata": {},
   "outputs": [
    {
     "data": {
      "text/plain": [
       "7.007523173005321"
      ]
     },
     "execution_count": 60,
     "metadata": {},
     "output_type": "execute_result"
    }
   ],
   "source": [
    "k"
   ]
  },
  {
   "cell_type": "code",
   "execution_count": 61,
   "id": "c4d97964",
   "metadata": {},
   "outputs": [
    {
     "data": {
      "text/plain": [
       "0.3000867649532339"
      ]
     },
     "execution_count": 61,
     "metadata": {},
     "output_type": "execute_result"
    }
   ],
   "source": [
    "r"
   ]
  },
  {
   "cell_type": "markdown",
   "id": "886a1819",
   "metadata": {},
   "source": [
    "## 2. Ajuste de los datos a un modelo numérico"
   ]
  },
  {
   "cell_type": "markdown",
   "id": "5b1318cb",
   "metadata": {},
   "source": [
    "Vamos a resolver el sistema por medio del Método de Heun (RK2)\n",
    "$$V_{i+1}=V_{i}+\\phi h, \\hspace{1cm} \\phi=\\frac{1}{2}k_1 + \\frac{1}{2}k_2,$$\n",
    "\n",
    "$$k_1=f(V_i),$$\n",
    "$$k_2=f(V_i+k_1 h),$$\n",
    "\n",
    "siendo\n",
    "\n",
    "$$f(V)=rV\\left(1-\\frac{V}{K}\\right)$$"
   ]
  },
  {
   "cell_type": "code",
   "execution_count": 62,
   "id": "df1baf47",
   "metadata": {},
   "outputs": [],
   "source": [
    "# Definimos la función f(V)\n",
    "\n",
    "def f(V, k, r): return r*V*(1-(V/k)) "
   ]
  },
  {
   "cell_type": "code",
   "execution_count": 63,
   "id": "853489a1",
   "metadata": {},
   "outputs": [],
   "source": [
    "# Definimos la solución numérica como una función\n",
    "\n",
    "def V_num(t_value, k, r):\n",
    "    t = np.linspace(0,65,4000)\n",
    "    V_sol = []\n",
    "    h = t[1] - t[0]\n",
    "    V_prev = df.V[0]\n",
    "    for i in range(len(t)):\n",
    "        k1 = f(V_prev, k, r)\n",
    "        k2 = f(V_prev + k1*h, k, r)\n",
    "        phi = 0.5*k1 + 0.5*k2\n",
    "        V_new = V_prev + phi*h\n",
    "        V_sol.append(V_new)\n",
    "        V_prev = V_new \n",
    "    V_interpol = interp1d(t,V_sol)\n",
    "    return V_interpol(t_value)"
   ]
  },
  {
   "cell_type": "code",
   "execution_count": 64,
   "id": "f8ed63f1",
   "metadata": {},
   "outputs": [],
   "source": [
    "# Ajuste de la curva\n",
    "\n",
    "# Definir los datos que se van a ajustar (t,y)\n",
    "t_data = df['t'].values\n",
    "V_data = df['V'].values\n",
    "\n",
    "# Ajustar la curva\n",
    "popt, _ = curve_fit(V_num, t_data, V_data) \n",
    "\n",
    "# Valores de los parámetros: k, r\n",
    "k = popt[0]\n",
    "r = popt[1]\n",
    "\n",
    "# Valores de posición y predichos por el modelo\n",
    "V_pred = V_num(t_data, k, r)"
   ]
  },
  {
   "cell_type": "code",
   "execution_count": 65,
   "id": "59e1e86f",
   "metadata": {},
   "outputs": [
    {
     "data": {
      "image/png": "[encoded data removed]",
      "text/plain": [
       "<Figure size 432x288 with 1 Axes>"
      ]
     },
     "metadata": {
      "needs_background": "light"
     },
     "output_type": "display_data"
    }
   ],
   "source": [
    "plt.scatter(t_data,V_data,label='Datos')\n",
    "plt.plot(t_data,V_pred, color='red',label='Mejor ajuste')\n",
    "plt.legend();"
   ]
  },
  {
   "cell_type": "code",
   "execution_count": 66,
   "id": "ea4071af",
   "metadata": {},
   "outputs": [
    {
     "data": {
      "text/plain": [
       "7.007900413980395"
      ]
     },
     "execution_count": 66,
     "metadata": {},
     "output_type": "execute_result"
    }
   ],
   "source": [
    "k"
   ]
  },
  {
   "cell_type": "code",
   "execution_count": 67,
   "id": "7534640a",
   "metadata": {},
   "outputs": [
    {
     "data": {
      "text/plain": [
       "0.2998527319297056"
      ]
     },
     "execution_count": 67,
     "metadata": {},
     "output_type": "execute_result"
    }
   ],
   "source": [
    "r"
   ]
  },
  {
   "cell_type": "code",
   "execution_count": null,
   "id": "38f6c6a3",
   "metadata": {},
   "outputs": [],
   "source": []
  }
 ],
 "metadata": {
  "kernelspec": {
   "display_name": "Python 3",
   "language": "python",
   "name": "python3"
  },
  "language_info": {
   "codemirror_mode": {
    "name": "ipython",
    "version": 3
   },
   "file_extension": ".py",
   "mimetype": "text/x-python",
   "name": "python",
   "nbconvert_exporter": "python",
   "pygments_lexer": "ipython3",
   "version": "3.8.8"
  }
 },
 "nbformat": 4,
 "nbformat_minor": 5
}
